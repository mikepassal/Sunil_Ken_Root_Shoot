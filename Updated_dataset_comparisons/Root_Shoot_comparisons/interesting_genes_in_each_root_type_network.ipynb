{
 "cells": [
  {
   "cell_type": "code",
   "execution_count": 1,
   "metadata": {},
   "outputs": [],
   "source": [
    "import pandas as pd"
   ]
  },
  {
   "cell_type": "code",
   "execution_count": 2,
   "metadata": {},
   "outputs": [],
   "source": [
    "crown_corr_network = pd.read_csv(\n",
    "    \"/data/passala/Generated_Tables/Sunil_root_shoot_project/crown_rename_corr_network.csv\",\n",
    "    index_col=0,\n",
    ")\n",
    "primary_lat_corr_network = pd.read_csv(\n",
    "    \"/data/passala/Generated_Tables/Sunil_root_shoot_project/primary_lat_rename_corr_network.csv\",\n",
    "    index_col=0,\n",
    ")\n",
    "primary_corr_network = pd.read_csv(\n",
    "    \"/data/passala/Generated_Tables/Sunil_root_shoot_project/primary_rename_corr_network.csv\",\n",
    "    index_col=0,\n",
    ")\n",
    "seminal_corr_network = pd.read_csv(\n",
    "    \"/data/passala/Generated_Tables/Sunil_root_shoot_project/seminal_rename_corr_network.csv\",\n",
    "    index_col=0,\n",
    ")\n",
    "seminal_lat_corr_network = pd.read_csv(\n",
    "    \"/data/passala/Generated_Tables/Sunil_root_shoot_project/seminal_lat_rename_corr_network.csv\",\n",
    "    index_col=0,\n",
    ")"
   ]
  },
  {
   "cell_type": "code",
   "execution_count": 5,
   "metadata": {},
   "outputs": [],
   "source": [
    "def get_and_save_gene(gene_name):\n",
    "\n",
    "    try:\n",
    "        crown_gene = crown_corr_network[[gene_name]]\n",
    "        crown_gene_sorted = crown_gene.sort_values(by=gene_name, ascending=False)\n",
    "        crown_gene_sorted.to_csv(\n",
    "            f\"/data/passala/Generated_Tables/Sunil_root_shoot_project/Interesting_gene_coexpression_lists_round_3/{gene_name}_crown_sorted_coexpression_partners.csv\"\n",
    "        )\n",
    "    except:\n",
    "        print(f'Gene {gene_name} not found in crown_gene network')\n",
    "    \n",
    "    try:\n",
    "\n",
    "        primary_lat_corr_gene = primary_lat_corr_network[[gene_name]]\n",
    "        primary_lat_corr_gene_sorted = primary_lat_corr_gene.sort_values(by=gene_name, ascending=False)\n",
    "        primary_lat_corr_gene_sorted.to_csv(\n",
    "            f\"/data/passala/Generated_Tables/Sunil_root_shoot_project/Interesting_gene_coexpression_lists_round_3/{gene_name}_primary_lat_sorted_coexpression_partners.csv\"\n",
    "        )\n",
    "    except:\n",
    "        print(f'Gene {gene_name} not found in primary_lat network')\n",
    "\n",
    "    try:\n",
    "        primary_corr_gene = primary_corr_network[[gene_name]]\n",
    "        primary_corr_gene_sorted = primary_corr_gene.sort_values(by=gene_name, ascending=False)\n",
    "        primary_corr_gene_sorted.to_csv(\n",
    "            f\"/data/passala/Generated_Tables/Sunil_root_shoot_project/Interesting_gene_coexpression_lists_round_3/{gene_name}_primary_sorted_coexpression_partners.csv\"\n",
    "        )\n",
    "    except:\n",
    "        print(f'Gene {gene_name} not found in primary network')\n",
    "\n",
    "    try:\n",
    "        seminal_corr_gene = seminal_corr_network[[gene_name]]\n",
    "        seminal_corr_gene_sorted = seminal_corr_gene.sort_values(by=gene_name, ascending=False)\n",
    "        seminal_corr_gene_sorted.to_csv(\n",
    "            f\"/data/passala/Generated_Tables/Sunil_root_shoot_project/Interesting_gene_coexpression_lists_round_3/{gene_name}_seminal_sorted_coexpression_partners.csv\"\n",
    "        )\n",
    "    except:\n",
    "        print(f'Gene {gene_name} not found in seminal network')\n",
    "\n",
    "    try:\n",
    "        seminal_lat_corr_gene = seminal_lat_corr_network[[gene_name]]\n",
    "        seminal_lat_corr_gene_sorted = seminal_lat_corr_gene.sort_values(by=gene_name, ascending=False)\n",
    "        seminal_lat_corr_gene_sorted.to_csv(\n",
    "            f\"/data/passala/Generated_Tables/Sunil_root_shoot_project/Interesting_gene_coexpression_lists_round_3/{gene_name}_seminal_lat_sorted_coexpression_partners.csv\"\n",
    "        )\n",
    "    except:\n",
    "        print(f'Gene {gene_name} not found in seminal_lat network')\n"
   ]
  },
  {
   "cell_type": "code",
   "execution_count": 6,
   "metadata": {},
   "outputs": [],
   "source": [
    "gene_list = [\"Zm00001eb193790\", \"Zm00001eb007950\", \"Zm00001eb294870\", \"Zm00001eb316920\", \"Zm00001eb406130\", \"Zm00001eb123800\", \"Zm00001eb325630\", \"Zm00001eb419530\", \"Zm00001eb364930\"]"
   ]
  },
  {
   "cell_type": "code",
   "execution_count": 7,
   "metadata": {},
   "outputs": [
    {
     "name": "stdout",
     "output_type": "stream",
     "text": [
      "Gene Zm00001eb123800 not found in crown_gene network\n"
     ]
    }
   ],
   "source": [
    "for gene in gene_list:\n",
    "    get_and_save_gene(gene)"
   ]
  }
 ],
 "metadata": {
  "kernelspec": {
   "display_name": "Single_cell_data_fix",
   "language": "python",
   "name": "python3"
  },
  "language_info": {
   "codemirror_mode": {
    "name": "ipython",
    "version": 3
   },
   "file_extension": ".py",
   "mimetype": "text/x-python",
   "name": "python",
   "nbconvert_exporter": "python",
   "pygments_lexer": "ipython3",
   "version": "3.9.13"
  }
 },
 "nbformat": 4,
 "nbformat_minor": 2
}
